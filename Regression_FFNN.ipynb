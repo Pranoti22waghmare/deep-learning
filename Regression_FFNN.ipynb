{
  "nbformat": 4,
  "nbformat_minor": 0,
  "metadata": {
    "colab": {
      "provenance": []
    },
    "kernelspec": {
      "name": "python3",
      "display_name": "Python 3"
    },
    "language_info": {
      "name": "python"
    }
  },
  "cells": [
    {
      "cell_type": "code",
      "execution_count": 1,
      "metadata": {
        "id": "IId_bIeiOjjz"
      },
      "outputs": [],
      "source": [
        "#Regression using Feed Forward Neural Network"
      ]
    },
    {
      "cell_type": "code",
      "source": [
        "from keras.models import Sequential\n",
        "from keras.layers import Dense\n",
        "import numpy as np\n",
        "from sklearn.model_selection import train_test_split\n"
      ],
      "metadata": {
        "id": "heFNqq47Opm8"
      },
      "execution_count": 2,
      "outputs": []
    },
    {
      "cell_type": "code",
      "source": [
        "np.random.seed(0)"
      ],
      "metadata": {
        "id": "F6zIwCfyPPRd"
      },
      "execution_count": 4,
      "outputs": []
    },
    {
      "cell_type": "code",
      "source": [
        "x = np.random.rand(1000,3) #vectors will be generated"
      ],
      "metadata": {
        "id": "IGz3HlKkPRnr"
      },
      "execution_count": 5,
      "outputs": []
    },
    {
      "cell_type": "code",
      "source": [
        "x[0:5]"
      ],
      "metadata": {
        "colab": {
          "base_uri": "https://localhost:8080/"
        },
        "id": "nHcu8wiLPTmz",
        "outputId": "7f9a52eb-bc9a-48d2-8647-ba085a4522e7"
      },
      "execution_count": 7,
      "outputs": [
        {
          "output_type": "execute_result",
          "data": {
            "text/plain": [
              "array([[0.5488135 , 0.71518937, 0.60276338],\n",
              "       [0.54488318, 0.4236548 , 0.64589411],\n",
              "       [0.43758721, 0.891773  , 0.96366276],\n",
              "       [0.38344152, 0.79172504, 0.52889492],\n",
              "       [0.56804456, 0.92559664, 0.07103606]])"
            ]
          },
          "metadata": {},
          "execution_count": 7
        }
      ]
    },
    {
      "cell_type": "code",
      "source": [
        "def true_func(x):\n",
        "  return np.sin(1.5*np.pi*x[:,0])+np.cos(1.5*np.pi*x[:,1])+2*x[:,2]\n",
        ""
      ],
      "metadata": {
        "id": "xv8GVMr6O-j9"
      },
      "execution_count": 8,
      "outputs": []
    },
    {
      "cell_type": "code",
      "source": [
        "y = true_func(x)"
      ],
      "metadata": {
        "id": "o4_IgyOTPLTT"
      },
      "execution_count": 9,
      "outputs": []
    },
    {
      "cell_type": "code",
      "source": [
        "y[0:5]"
      ],
      "metadata": {
        "colab": {
          "base_uri": "https://localhost:8080/"
        },
        "id": "iFABHZ4gP8K7",
        "outputId": "b36a607f-4f93-497d-e714-bd21699d02c2"
      },
      "execution_count": 10,
      "outputs": [
        {
          "output_type": "execute_result",
          "data": {
            "text/plain": [
              "array([0.75881293, 1.4217976 , 2.320869  , 1.19872386, 0.24678974])"
            ]
          },
          "metadata": {},
          "execution_count": 10
        }
      ]
    },
    {
      "cell_type": "code",
      "source": [
        "from sklearn.model_selection import train_test_split"
      ],
      "metadata": {
        "id": "iWKMUNriP-bE"
      },
      "execution_count": 11,
      "outputs": []
    },
    {
      "cell_type": "code",
      "source": [
        "x_train,xtest,ytrain,ytest = train_test_split(x,y,test_size = 0.2,random_state=1)"
      ],
      "metadata": {
        "id": "FuBtHGUzQFVb"
      },
      "execution_count": 14,
      "outputs": []
    },
    {
      "cell_type": "code",
      "source": [
        "model = Sequential()\n",
        "model.add(Dense(15,input_dim = 3,activation = 'relu'))\n",
        "model.add(Dense(1,activation='linear')) #linear is same as identity activation\n",
        "model.compile(loss='mean_squared_error',optimizer='adam',metrics='mean_absolute_error')"
      ],
      "metadata": {
        "id": "FuavR3k9Qbjz"
      },
      "execution_count": 16,
      "outputs": []
    },
    {
      "cell_type": "code",
      "source": [
        "model.compile(loss='mean_squared_error',optimizer='adam',metrics='mean_absolute_error')"
      ],
      "metadata": {
        "id": "bNwMujjjRh51"
      },
      "execution_count": 17,
      "outputs": []
    },
    {
      "cell_type": "code",
      "source": [
        "model.fit(x_train,ytrain,epochs = 150,batch_size=30)"
      ],
      "metadata": {
        "colab": {
          "base_uri": "https://localhost:8080/"
        },
        "id": "i1YThBfwRjhE",
        "outputId": "ff692638-f9c1-415e-b8c4-841f716fabb4"
      },
      "execution_count": 20,
      "outputs": [
        {
          "output_type": "stream",
          "name": "stdout",
          "text": [
            "Epoch 1/150\n",
            "27/27 [==============================] - 1s 1ms/step - loss: 3.2462 - mean_absolute_error: 1.5480\n",
            "Epoch 2/150\n",
            "27/27 [==============================] - 0s 1ms/step - loss: 2.4000 - mean_absolute_error: 1.2982\n",
            "Epoch 3/150\n",
            "27/27 [==============================] - 0s 1ms/step - loss: 1.8207 - mean_absolute_error: 1.1163\n",
            "Epoch 4/150\n",
            "27/27 [==============================] - 0s 1ms/step - loss: 1.4663 - mean_absolute_error: 0.9949\n",
            "Epoch 5/150\n",
            "27/27 [==============================] - 0s 1ms/step - loss: 1.2474 - mean_absolute_error: 0.9173\n",
            "Epoch 6/150\n",
            "27/27 [==============================] - 0s 1ms/step - loss: 1.1293 - mean_absolute_error: 0.8652\n",
            "Epoch 7/150\n",
            "27/27 [==============================] - 0s 1ms/step - loss: 1.0609 - mean_absolute_error: 0.8373\n",
            "Epoch 8/150\n",
            "27/27 [==============================] - 0s 1ms/step - loss: 1.0166 - mean_absolute_error: 0.8164\n",
            "Epoch 9/150\n",
            "27/27 [==============================] - 0s 1ms/step - loss: 0.9778 - mean_absolute_error: 0.8004\n",
            "Epoch 10/150\n",
            "27/27 [==============================] - 0s 1ms/step - loss: 0.9410 - mean_absolute_error: 0.7851\n",
            "Epoch 11/150\n",
            "27/27 [==============================] - 0s 1ms/step - loss: 0.9034 - mean_absolute_error: 0.7693\n",
            "Epoch 12/150\n",
            "27/27 [==============================] - 0s 1ms/step - loss: 0.8673 - mean_absolute_error: 0.7539\n",
            "Epoch 13/150\n",
            "27/27 [==============================] - 0s 1ms/step - loss: 0.8300 - mean_absolute_error: 0.7382\n",
            "Epoch 14/150\n",
            "27/27 [==============================] - 0s 1ms/step - loss: 0.7943 - mean_absolute_error: 0.7217\n",
            "Epoch 15/150\n",
            "27/27 [==============================] - 0s 1ms/step - loss: 0.7585 - mean_absolute_error: 0.7058\n",
            "Epoch 16/150\n",
            "27/27 [==============================] - 0s 1ms/step - loss: 0.7244 - mean_absolute_error: 0.6901\n",
            "Epoch 17/150\n",
            "27/27 [==============================] - 0s 1ms/step - loss: 0.6907 - mean_absolute_error: 0.6742\n",
            "Epoch 18/150\n",
            "27/27 [==============================] - 0s 1ms/step - loss: 0.6582 - mean_absolute_error: 0.6588\n",
            "Epoch 19/150\n",
            "27/27 [==============================] - 0s 1ms/step - loss: 0.6272 - mean_absolute_error: 0.6434\n",
            "Epoch 20/150\n",
            "27/27 [==============================] - 0s 1ms/step - loss: 0.5983 - mean_absolute_error: 0.6286\n",
            "Epoch 21/150\n",
            "27/27 [==============================] - 0s 1ms/step - loss: 0.5697 - mean_absolute_error: 0.6138\n",
            "Epoch 22/150\n",
            "27/27 [==============================] - 0s 1ms/step - loss: 0.5442 - mean_absolute_error: 0.5999\n",
            "Epoch 23/150\n",
            "27/27 [==============================] - 0s 1ms/step - loss: 0.5194 - mean_absolute_error: 0.5854\n",
            "Epoch 24/150\n",
            "27/27 [==============================] - 0s 1ms/step - loss: 0.4978 - mean_absolute_error: 0.5728\n",
            "Epoch 25/150\n",
            "27/27 [==============================] - 0s 1ms/step - loss: 0.4776 - mean_absolute_error: 0.5604\n",
            "Epoch 26/150\n",
            "27/27 [==============================] - 0s 1ms/step - loss: 0.4601 - mean_absolute_error: 0.5493\n",
            "Epoch 27/150\n",
            "27/27 [==============================] - 0s 1ms/step - loss: 0.4437 - mean_absolute_error: 0.5395\n",
            "Epoch 28/150\n",
            "27/27 [==============================] - 0s 1ms/step - loss: 0.4301 - mean_absolute_error: 0.5316\n",
            "Epoch 29/150\n",
            "27/27 [==============================] - 0s 1ms/step - loss: 0.4178 - mean_absolute_error: 0.5240\n",
            "Epoch 30/150\n",
            "27/27 [==============================] - 0s 1ms/step - loss: 0.4071 - mean_absolute_error: 0.5168\n",
            "Epoch 31/150\n",
            "27/27 [==============================] - 0s 1ms/step - loss: 0.3979 - mean_absolute_error: 0.5103\n",
            "Epoch 32/150\n",
            "27/27 [==============================] - 0s 1ms/step - loss: 0.3903 - mean_absolute_error: 0.5055\n",
            "Epoch 33/150\n",
            "27/27 [==============================] - 0s 1ms/step - loss: 0.3823 - mean_absolute_error: 0.4998\n",
            "Epoch 34/150\n",
            "27/27 [==============================] - 0s 1ms/step - loss: 0.3762 - mean_absolute_error: 0.4954\n",
            "Epoch 35/150\n",
            "27/27 [==============================] - 0s 1ms/step - loss: 0.3691 - mean_absolute_error: 0.4900\n",
            "Epoch 36/150\n",
            "27/27 [==============================] - 0s 1ms/step - loss: 0.3624 - mean_absolute_error: 0.4852\n",
            "Epoch 37/150\n",
            "27/27 [==============================] - 0s 1ms/step - loss: 0.3578 - mean_absolute_error: 0.4812\n",
            "Epoch 38/150\n",
            "27/27 [==============================] - 0s 1ms/step - loss: 0.3522 - mean_absolute_error: 0.4773\n",
            "Epoch 39/150\n",
            "27/27 [==============================] - 0s 994us/step - loss: 0.3483 - mean_absolute_error: 0.4732\n",
            "Epoch 40/150\n",
            "27/27 [==============================] - 0s 1ms/step - loss: 0.3449 - mean_absolute_error: 0.4708\n",
            "Epoch 41/150\n",
            "27/27 [==============================] - 0s 1ms/step - loss: 0.3427 - mean_absolute_error: 0.4700\n",
            "Epoch 42/150\n",
            "27/27 [==============================] - 0s 1ms/step - loss: 0.3390 - mean_absolute_error: 0.4652\n",
            "Epoch 43/150\n",
            "27/27 [==============================] - 0s 1ms/step - loss: 0.3363 - mean_absolute_error: 0.4635\n",
            "Epoch 44/150\n",
            "27/27 [==============================] - 0s 980us/step - loss: 0.3342 - mean_absolute_error: 0.4618\n",
            "Epoch 45/150\n",
            "27/27 [==============================] - 0s 1ms/step - loss: 0.3322 - mean_absolute_error: 0.4600\n",
            "Epoch 46/150\n",
            "27/27 [==============================] - 0s 1ms/step - loss: 0.3304 - mean_absolute_error: 0.4585\n",
            "Epoch 47/150\n",
            "27/27 [==============================] - 0s 1ms/step - loss: 0.3291 - mean_absolute_error: 0.4574\n",
            "Epoch 48/150\n",
            "27/27 [==============================] - 0s 1ms/step - loss: 0.3265 - mean_absolute_error: 0.4552\n",
            "Epoch 49/150\n",
            "27/27 [==============================] - 0s 1ms/step - loss: 0.3251 - mean_absolute_error: 0.4543\n",
            "Epoch 50/150\n",
            "27/27 [==============================] - 0s 1ms/step - loss: 0.3242 - mean_absolute_error: 0.4534\n",
            "Epoch 51/150\n",
            "27/27 [==============================] - 0s 1ms/step - loss: 0.3216 - mean_absolute_error: 0.4513\n",
            "Epoch 52/150\n",
            "27/27 [==============================] - 0s 1ms/step - loss: 0.3202 - mean_absolute_error: 0.4498\n",
            "Epoch 53/150\n",
            "27/27 [==============================] - 0s 1ms/step - loss: 0.3188 - mean_absolute_error: 0.4491\n",
            "Epoch 54/150\n",
            "27/27 [==============================] - 0s 1ms/step - loss: 0.3167 - mean_absolute_error: 0.4470\n",
            "Epoch 55/150\n",
            "27/27 [==============================] - 0s 1ms/step - loss: 0.3161 - mean_absolute_error: 0.4466\n",
            "Epoch 56/150\n",
            "27/27 [==============================] - 0s 1ms/step - loss: 0.3131 - mean_absolute_error: 0.4444\n",
            "Epoch 57/150\n",
            "27/27 [==============================] - 0s 1ms/step - loss: 0.3122 - mean_absolute_error: 0.4431\n",
            "Epoch 58/150\n",
            "27/27 [==============================] - 0s 996us/step - loss: 0.3096 - mean_absolute_error: 0.4416\n",
            "Epoch 59/150\n",
            "27/27 [==============================] - 0s 1ms/step - loss: 0.3078 - mean_absolute_error: 0.4399\n",
            "Epoch 60/150\n",
            "27/27 [==============================] - 0s 1ms/step - loss: 0.3056 - mean_absolute_error: 0.4385\n",
            "Epoch 61/150\n",
            "27/27 [==============================] - 0s 1ms/step - loss: 0.3039 - mean_absolute_error: 0.4368\n",
            "Epoch 62/150\n",
            "27/27 [==============================] - 0s 1ms/step - loss: 0.3030 - mean_absolute_error: 0.4357\n",
            "Epoch 63/150\n",
            "27/27 [==============================] - 0s 1ms/step - loss: 0.2996 - mean_absolute_error: 0.4339\n",
            "Epoch 64/150\n",
            "27/27 [==============================] - 0s 1ms/step - loss: 0.2982 - mean_absolute_error: 0.4325\n",
            "Epoch 65/150\n",
            "27/27 [==============================] - 0s 1ms/step - loss: 0.2957 - mean_absolute_error: 0.4311\n",
            "Epoch 66/150\n",
            "27/27 [==============================] - 0s 1ms/step - loss: 0.2940 - mean_absolute_error: 0.4298\n",
            "Epoch 67/150\n",
            "27/27 [==============================] - 0s 1ms/step - loss: 0.2913 - mean_absolute_error: 0.4272\n",
            "Epoch 68/150\n",
            "27/27 [==============================] - 0s 1ms/step - loss: 0.2889 - mean_absolute_error: 0.4258\n",
            "Epoch 69/150\n",
            "27/27 [==============================] - 0s 1ms/step - loss: 0.2866 - mean_absolute_error: 0.4243\n",
            "Epoch 70/150\n",
            "27/27 [==============================] - 0s 1ms/step - loss: 0.2838 - mean_absolute_error: 0.4215\n",
            "Epoch 71/150\n",
            "27/27 [==============================] - 0s 1ms/step - loss: 0.2810 - mean_absolute_error: 0.4201\n",
            "Epoch 72/150\n",
            "27/27 [==============================] - 0s 1ms/step - loss: 0.2783 - mean_absolute_error: 0.4176\n",
            "Epoch 73/150\n",
            "27/27 [==============================] - 0s 1ms/step - loss: 0.2753 - mean_absolute_error: 0.4160\n",
            "Epoch 74/150\n",
            "27/27 [==============================] - 0s 1ms/step - loss: 0.2717 - mean_absolute_error: 0.4120\n",
            "Epoch 75/150\n",
            "27/27 [==============================] - 0s 1ms/step - loss: 0.2676 - mean_absolute_error: 0.4095\n",
            "Epoch 76/150\n",
            "27/27 [==============================] - 0s 1ms/step - loss: 0.2639 - mean_absolute_error: 0.4066\n",
            "Epoch 77/150\n",
            "27/27 [==============================] - 0s 1ms/step - loss: 0.2603 - mean_absolute_error: 0.4038\n",
            "Epoch 78/150\n",
            "27/27 [==============================] - 0s 1ms/step - loss: 0.2543 - mean_absolute_error: 0.3975\n",
            "Epoch 79/150\n",
            "27/27 [==============================] - 0s 1ms/step - loss: 0.2383 - mean_absolute_error: 0.3822\n",
            "Epoch 80/150\n",
            "27/27 [==============================] - 0s 1ms/step - loss: 0.2290 - mean_absolute_error: 0.3732\n",
            "Epoch 81/150\n",
            "27/27 [==============================] - 0s 1ms/step - loss: 0.2211 - mean_absolute_error: 0.3655\n",
            "Epoch 82/150\n",
            "27/27 [==============================] - 0s 1ms/step - loss: 0.2133 - mean_absolute_error: 0.3597\n",
            "Epoch 83/150\n",
            "27/27 [==============================] - 0s 1ms/step - loss: 0.2062 - mean_absolute_error: 0.3533\n",
            "Epoch 84/150\n",
            "27/27 [==============================] - 0s 1ms/step - loss: 0.1999 - mean_absolute_error: 0.3480\n",
            "Epoch 85/150\n",
            "27/27 [==============================] - 0s 1ms/step - loss: 0.1935 - mean_absolute_error: 0.3413\n",
            "Epoch 86/150\n",
            "27/27 [==============================] - 0s 1ms/step - loss: 0.1884 - mean_absolute_error: 0.3366\n",
            "Epoch 87/150\n",
            "27/27 [==============================] - 0s 1ms/step - loss: 0.1830 - mean_absolute_error: 0.3317\n",
            "Epoch 88/150\n",
            "27/27 [==============================] - 0s 1ms/step - loss: 0.1779 - mean_absolute_error: 0.3264\n",
            "Epoch 89/150\n",
            "27/27 [==============================] - 0s 1ms/step - loss: 0.1730 - mean_absolute_error: 0.3227\n",
            "Epoch 90/150\n",
            "27/27 [==============================] - 0s 1ms/step - loss: 0.1685 - mean_absolute_error: 0.3170\n",
            "Epoch 91/150\n",
            "27/27 [==============================] - 0s 1ms/step - loss: 0.1640 - mean_absolute_error: 0.3129\n",
            "Epoch 92/150\n",
            "27/27 [==============================] - 0s 1ms/step - loss: 0.1600 - mean_absolute_error: 0.3080\n",
            "Epoch 93/150\n",
            "27/27 [==============================] - 0s 1ms/step - loss: 0.1557 - mean_absolute_error: 0.3049\n",
            "Epoch 94/150\n",
            "27/27 [==============================] - 0s 1ms/step - loss: 0.1518 - mean_absolute_error: 0.3003\n",
            "Epoch 95/150\n",
            "27/27 [==============================] - 0s 1ms/step - loss: 0.1482 - mean_absolute_error: 0.2958\n",
            "Epoch 96/150\n",
            "27/27 [==============================] - 0s 1ms/step - loss: 0.1444 - mean_absolute_error: 0.2930\n",
            "Epoch 97/150\n",
            "27/27 [==============================] - 0s 1ms/step - loss: 0.1410 - mean_absolute_error: 0.2885\n",
            "Epoch 98/150\n",
            "27/27 [==============================] - 0s 1ms/step - loss: 0.1380 - mean_absolute_error: 0.2849\n",
            "Epoch 99/150\n",
            "27/27 [==============================] - 0s 1ms/step - loss: 0.1346 - mean_absolute_error: 0.2802\n",
            "Epoch 100/150\n",
            "27/27 [==============================] - 0s 1ms/step - loss: 0.1314 - mean_absolute_error: 0.2772\n",
            "Epoch 101/150\n",
            "27/27 [==============================] - 0s 1ms/step - loss: 0.1283 - mean_absolute_error: 0.2721\n",
            "Epoch 102/150\n",
            "27/27 [==============================] - 0s 1ms/step - loss: 0.1258 - mean_absolute_error: 0.2715\n",
            "Epoch 103/150\n",
            "27/27 [==============================] - 0s 1ms/step - loss: 0.1235 - mean_absolute_error: 0.2673\n",
            "Epoch 104/150\n",
            "27/27 [==============================] - 0s 1ms/step - loss: 0.1202 - mean_absolute_error: 0.2616\n",
            "Epoch 105/150\n",
            "27/27 [==============================] - 0s 1ms/step - loss: 0.1176 - mean_absolute_error: 0.2600\n",
            "Epoch 106/150\n",
            "27/27 [==============================] - 0s 1ms/step - loss: 0.1144 - mean_absolute_error: 0.2554\n",
            "Epoch 107/150\n",
            "27/27 [==============================] - 0s 1ms/step - loss: 0.1119 - mean_absolute_error: 0.2528\n",
            "Epoch 108/150\n",
            "27/27 [==============================] - 0s 1ms/step - loss: 0.1091 - mean_absolute_error: 0.2498\n",
            "Epoch 109/150\n",
            "27/27 [==============================] - 0s 1ms/step - loss: 0.1067 - mean_absolute_error: 0.2451\n",
            "Epoch 110/150\n",
            "27/27 [==============================] - 0s 1ms/step - loss: 0.1048 - mean_absolute_error: 0.2433\n",
            "Epoch 111/150\n",
            "27/27 [==============================] - 0s 1ms/step - loss: 0.1021 - mean_absolute_error: 0.2392\n",
            "Epoch 112/150\n",
            "27/27 [==============================] - 0s 1ms/step - loss: 0.1001 - mean_absolute_error: 0.2380\n",
            "Epoch 113/150\n",
            "27/27 [==============================] - 0s 1ms/step - loss: 0.0977 - mean_absolute_error: 0.2346\n",
            "Epoch 114/150\n",
            "27/27 [==============================] - 0s 1ms/step - loss: 0.0955 - mean_absolute_error: 0.2319\n",
            "Epoch 115/150\n",
            "27/27 [==============================] - 0s 1ms/step - loss: 0.0935 - mean_absolute_error: 0.2268\n",
            "Epoch 116/150\n",
            "27/27 [==============================] - 0s 1ms/step - loss: 0.0915 - mean_absolute_error: 0.2254\n",
            "Epoch 117/150\n",
            "27/27 [==============================] - 0s 1ms/step - loss: 0.0893 - mean_absolute_error: 0.2232\n",
            "Epoch 118/150\n",
            "27/27 [==============================] - 0s 1ms/step - loss: 0.0874 - mean_absolute_error: 0.2198\n",
            "Epoch 119/150\n",
            "27/27 [==============================] - 0s 1ms/step - loss: 0.0855 - mean_absolute_error: 0.2176\n",
            "Epoch 120/150\n",
            "27/27 [==============================] - 0s 1ms/step - loss: 0.0838 - mean_absolute_error: 0.2151\n",
            "Epoch 121/150\n",
            "27/27 [==============================] - 0s 1ms/step - loss: 0.0823 - mean_absolute_error: 0.2140\n",
            "Epoch 122/150\n",
            "27/27 [==============================] - 0s 1ms/step - loss: 0.0804 - mean_absolute_error: 0.2101\n",
            "Epoch 123/150\n",
            "27/27 [==============================] - 0s 1ms/step - loss: 0.0789 - mean_absolute_error: 0.2087\n",
            "Epoch 124/150\n",
            "27/27 [==============================] - 0s 1ms/step - loss: 0.0772 - mean_absolute_error: 0.2070\n",
            "Epoch 125/150\n",
            "27/27 [==============================] - 0s 1ms/step - loss: 0.0758 - mean_absolute_error: 0.2058\n",
            "Epoch 126/150\n",
            "27/27 [==============================] - 0s 1ms/step - loss: 0.0743 - mean_absolute_error: 0.2021\n",
            "Epoch 127/150\n",
            "27/27 [==============================] - 0s 1ms/step - loss: 0.0727 - mean_absolute_error: 0.1999\n",
            "Epoch 128/150\n",
            "27/27 [==============================] - 0s 1ms/step - loss: 0.0710 - mean_absolute_error: 0.1982\n",
            "Epoch 129/150\n",
            "27/27 [==============================] - 0s 1ms/step - loss: 0.0700 - mean_absolute_error: 0.1959\n",
            "Epoch 130/150\n",
            "27/27 [==============================] - 0s 1ms/step - loss: 0.0685 - mean_absolute_error: 0.1947\n",
            "Epoch 131/150\n",
            "27/27 [==============================] - 0s 1ms/step - loss: 0.0675 - mean_absolute_error: 0.1943\n",
            "Epoch 132/150\n",
            "27/27 [==============================] - 0s 2ms/step - loss: 0.0668 - mean_absolute_error: 0.1926\n",
            "Epoch 133/150\n",
            "27/27 [==============================] - 0s 1ms/step - loss: 0.0650 - mean_absolute_error: 0.1882\n",
            "Epoch 134/150\n",
            "27/27 [==============================] - 0s 2ms/step - loss: 0.0635 - mean_absolute_error: 0.1867\n",
            "Epoch 135/150\n",
            "27/27 [==============================] - 0s 1ms/step - loss: 0.0625 - mean_absolute_error: 0.1862\n",
            "Epoch 136/150\n",
            "27/27 [==============================] - 0s 1ms/step - loss: 0.0613 - mean_absolute_error: 0.1838\n",
            "Epoch 137/150\n",
            "27/27 [==============================] - 0s 1ms/step - loss: 0.0602 - mean_absolute_error: 0.1832\n",
            "Epoch 138/150\n",
            "27/27 [==============================] - 0s 2ms/step - loss: 0.0593 - mean_absolute_error: 0.1807\n",
            "Epoch 139/150\n",
            "27/27 [==============================] - 0s 1ms/step - loss: 0.0583 - mean_absolute_error: 0.1793\n",
            "Epoch 140/150\n",
            "27/27 [==============================] - 0s 1ms/step - loss: 0.0570 - mean_absolute_error: 0.1770\n",
            "Epoch 141/150\n",
            "27/27 [==============================] - 0s 1ms/step - loss: 0.0559 - mean_absolute_error: 0.1761\n",
            "Epoch 142/150\n",
            "27/27 [==============================] - 0s 1ms/step - loss: 0.0550 - mean_absolute_error: 0.1738\n",
            "Epoch 143/150\n",
            "27/27 [==============================] - 0s 2ms/step - loss: 0.0545 - mean_absolute_error: 0.1748\n",
            "Epoch 144/150\n",
            "27/27 [==============================] - 0s 1ms/step - loss: 0.0534 - mean_absolute_error: 0.1724\n",
            "Epoch 145/150\n",
            "27/27 [==============================] - 0s 1ms/step - loss: 0.0526 - mean_absolute_error: 0.1707\n",
            "Epoch 146/150\n",
            "27/27 [==============================] - 0s 1ms/step - loss: 0.0515 - mean_absolute_error: 0.1688\n",
            "Epoch 147/150\n",
            "27/27 [==============================] - 0s 1ms/step - loss: 0.0508 - mean_absolute_error: 0.1679\n",
            "Epoch 148/150\n",
            "27/27 [==============================] - 0s 1ms/step - loss: 0.0501 - mean_absolute_error: 0.1671\n",
            "Epoch 149/150\n",
            "27/27 [==============================] - 0s 1ms/step - loss: 0.0491 - mean_absolute_error: 0.1659\n",
            "Epoch 150/150\n",
            "27/27 [==============================] - 0s 1ms/step - loss: 0.0486 - mean_absolute_error: 0.1631\n"
          ]
        },
        {
          "output_type": "execute_result",
          "data": {
            "text/plain": [
              "<keras.callbacks.History at 0x7d2a306b1030>"
            ]
          },
          "metadata": {},
          "execution_count": 20
        }
      ]
    },
    {
      "cell_type": "code",
      "source": [
        "predictions = model.predict(xtest)"
      ],
      "metadata": {
        "colab": {
          "base_uri": "https://localhost:8080/"
        },
        "id": "W8XvWUD0Rrpc",
        "outputId": "dca2aa3d-9bff-4c4c-f00a-a0067a5a3547"
      },
      "execution_count": 21,
      "outputs": [
        {
          "output_type": "stream",
          "name": "stdout",
          "text": [
            "7/7 [==============================] - 0s 1ms/step\n"
          ]
        }
      ]
    },
    {
      "cell_type": "code",
      "source": [
        "from sklearn.metrics import mean_absolute_error"
      ],
      "metadata": {
        "id": "x-aO-LfTR-6d"
      },
      "execution_count": 22,
      "outputs": []
    },
    {
      "cell_type": "code",
      "source": [
        "mean_absolute_error(ytest,predictions)"
      ],
      "metadata": {
        "colab": {
          "base_uri": "https://localhost:8080/"
        },
        "id": "nCyZV3l-SEkt",
        "outputId": "d81fa017-64c6-4958-d1b9-0673a4cb71cd"
      },
      "execution_count": 23,
      "outputs": [
        {
          "output_type": "execute_result",
          "data": {
            "text/plain": [
              "0.17409370446219"
            ]
          },
          "metadata": {},
          "execution_count": 23
        }
      ]
    },
    {
      "cell_type": "code",
      "source": [],
      "metadata": {
        "id": "xKGgf3q9SKlc"
      },
      "execution_count": null,
      "outputs": []
    }
  ]
}