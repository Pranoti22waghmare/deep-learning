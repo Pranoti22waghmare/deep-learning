{
 "cells": [
  {
   "cell_type": "code",
   "execution_count": 1,
   "id": "fde8fd41",
   "metadata": {},
   "outputs": [],
   "source": [
    "import tensorflow as tf"
   ]
  },
  {
   "cell_type": "markdown",
   "id": "c46b5a62",
   "metadata": {},
   "source": [
    "# Creating matrices of different shape using constant values with the help of tensorflow library."
   ]
  },
  {
   "cell_type": "code",
   "execution_count": 2,
   "id": "bd91d1a0",
   "metadata": {},
   "outputs": [
    {
     "data": {
      "text/plain": [
       "<tf.Tensor: shape=(3, 2), dtype=int32, numpy=\n",
       "array([[1, 2],\n",
       "       [3, 4],\n",
       "       [5, 6]])>"
      ]
     },
     "execution_count": 2,
     "metadata": {},
     "output_type": "execute_result"
    }
   ],
   "source": [
    "X = tf.constant([1,2,3,4,5,6],shape=[3,2])\n",
    "X"
   ]
  },
  {
   "cell_type": "code",
   "execution_count": 3,
   "id": "22154f79",
   "metadata": {},
   "outputs": [
    {
     "data": {
      "text/plain": [
       "<tf.Tensor: shape=(2, 3), dtype=int32, numpy=\n",
       "array([[1, 2, 3],\n",
       "       [4, 5, 6]])>"
      ]
     },
     "execution_count": 3,
     "metadata": {},
     "output_type": "execute_result"
    }
   ],
   "source": [
    "Y = tf.constant([1,2,3,4,5,6],shape=[2,3])\n",
    "Y"
   ]
  },
  {
   "cell_type": "markdown",
   "id": "944475b0",
   "metadata": {},
   "source": [
    "# Create a 4*4 square matrix A with constant values from 1 to 16."
   ]
  },
  {
   "cell_type": "code",
   "execution_count": 4,
   "id": "36e16996",
   "metadata": {},
   "outputs": [
    {
     "data": {
      "text/plain": [
       "<tf.Tensor: shape=(4, 4), dtype=int32, numpy=\n",
       "array([[ 1,  2,  3,  4],\n",
       "       [ 5,  6,  7,  8],\n",
       "       [ 9, 10, 11, 12],\n",
       "       [13, 14, 15, 16]])>"
      ]
     },
     "execution_count": 4,
     "metadata": {},
     "output_type": "execute_result"
    }
   ],
   "source": [
    "Z = tf.constant([1,2,3,4,5,6,7,8,9,10,11,12,13,14,15,16],shape=[4,4])\n",
    "Z"
   ]
  },
  {
   "cell_type": "markdown",
   "id": "1c12a6b7",
   "metadata": {},
   "source": [
    "Demonstrate matrix multiplication with the help of function of tensorflow library"
   ]
  },
  {
   "cell_type": "code",
   "execution_count": 6,
   "id": "e9a4ec47",
   "metadata": {},
   "outputs": [
    {
     "data": {
      "text/plain": [
       "<tf.Tensor: shape=(3, 3), dtype=int32, numpy=\n",
       "array([[ 9, 12, 15],\n",
       "       [19, 26, 33],\n",
       "       [29, 40, 51]])>"
      ]
     },
     "execution_count": 6,
     "metadata": {},
     "output_type": "execute_result"
    }
   ],
   "source": [
    "Z=tf.matmul(X,Y)\n",
    "Z"
   ]
  },
  {
   "cell_type": "code",
   "execution_count": 7,
   "id": "380fb058",
   "metadata": {},
   "outputs": [
    {
     "data": {
      "text/plain": [
       "<tf.Tensor: shape=(2, 3), dtype=int32, numpy=\n",
       "array([[1, 2, 3],\n",
       "       [4, 5, 6]])>"
      ]
     },
     "execution_count": 7,
     "metadata": {},
     "output_type": "execute_result"
    }
   ],
   "source": [
    "A = tf.constant([1,2,3,4,5,6],shape=[2,3])\n",
    "A"
   ]
  },
  {
   "cell_type": "code",
   "execution_count": 8,
   "id": "f7a60f70",
   "metadata": {},
   "outputs": [
    {
     "data": {
      "text/plain": [
       "<tf.Tensor: shape=(3, 2), dtype=int32, numpy=\n",
       "array([[ 7,  8],\n",
       "       [ 9, 10],\n",
       "       [11, 12]])>"
      ]
     },
     "execution_count": 8,
     "metadata": {},
     "output_type": "execute_result"
    }
   ],
   "source": [
    "B = tf.constant([7,8,9,10,11,12],shape=[3,2])\n",
    "B"
   ]
  },
  {
   "cell_type": "code",
   "execution_count": 9,
   "id": "b70d468f",
   "metadata": {},
   "outputs": [
    {
     "data": {
      "text/plain": [
       "<tf.Tensor: shape=(2, 2), dtype=int32, numpy=\n",
       "array([[ 58,  64],\n",
       "       [139, 154]])>"
      ]
     },
     "execution_count": 9,
     "metadata": {},
     "output_type": "execute_result"
    }
   ],
   "source": [
    "C=tf.matmul(A,B)\n",
    "C"
   ]
  },
  {
   "cell_type": "markdown",
   "id": "fbdf782c",
   "metadata": {},
   "source": [
    "With the help of tensorflow function create matrix using random values.\n",
    "\n",
    "Note:- Shape,Range1,Range2,Datatype of the argument."
   ]
  },
  {
   "cell_type": "code",
   "execution_count": 10,
   "id": "78cc5c39",
   "metadata": {},
   "outputs": [
    {
     "data": {
      "text/plain": [
       "<tf.Tensor: shape=(2, 2), dtype=int32, numpy=\n",
       "array([[9, 9],\n",
       "       [5, 8]])>"
      ]
     },
     "execution_count": 10,
     "metadata": {},
     "output_type": "execute_result"
    }
   ],
   "source": [
    "A= tf.random.uniform([2,2],minval=3,maxval=10,dtype=tf.int32)\n",
    "A"
   ]
  },
  {
   "cell_type": "code",
   "execution_count": 11,
   "id": "fbbeb5be",
   "metadata": {},
   "outputs": [
    {
     "data": {
      "text/plain": [
       "<tf.Tensor: shape=(3, 3), dtype=float32, numpy=\n",
       "array([[6.6225886, 5.937328 , 4.57042  ],\n",
       "       [3.8652177, 9.916026 , 4.4017563],\n",
       "       [3.1481276, 3.470261 , 3.4228935]], dtype=float32)>"
      ]
     },
     "execution_count": 11,
     "metadata": {},
     "output_type": "execute_result"
    }
   ],
   "source": [
    "B= tf.random.uniform([3,3],minval=3,maxval=10,dtype=tf.float32)\n",
    "B"
   ]
  },
  {
   "cell_type": "markdown",
   "id": "40bb562e",
   "metadata": {},
   "source": [
    "Create a Matrix C using random values of float datatype having shape 3*2"
   ]
  },
  {
   "cell_type": "code",
   "execution_count": 12,
   "id": "312a51cc",
   "metadata": {},
   "outputs": [
    {
     "data": {
      "text/plain": [
       "<tf.Tensor: shape=(3, 2), dtype=float32, numpy=\n",
       "array([[33.560062, 30.14102 ],\n",
       "       [38.514893, 14.271889],\n",
       "       [31.508926, 33.72686 ]], dtype=float32)>"
      ]
     },
     "execution_count": 12,
     "metadata": {},
     "output_type": "execute_result"
    }
   ],
   "source": [
    "C = tf.random.uniform([3,2],minval=10,maxval=50,dtype=tf.float32)\n",
    "C"
   ]
  },
  {
   "cell_type": "code",
   "execution_count": 13,
   "id": "8939eea4",
   "metadata": {},
   "outputs": [],
   "source": [
    "eig_values,eig_vectors=tf.linalg.eigh(B)"
   ]
  },
  {
   "cell_type": "code",
   "execution_count": 14,
   "id": "5c386439",
   "metadata": {},
   "outputs": [
    {
     "data": {
      "text/plain": [
       "<tf.Tensor: shape=(3,), dtype=float32, numpy=array([ 1.3157554,  4.2176924, 14.428066 ], dtype=float32)>"
      ]
     },
     "execution_count": 14,
     "metadata": {},
     "output_type": "execute_result"
    }
   ],
   "source": [
    "eig_values"
   ]
  },
  {
   "cell_type": "code",
   "execution_count": 15,
   "id": "6dc5dc30",
   "metadata": {},
   "outputs": [
    {
     "data": {
      "text/plain": [
       "<tf.Tensor: shape=(3, 3), dtype=float32, numpy=\n",
       "array([[ 0.39970684, -0.74785846,  0.5300401 ],\n",
       "       [ 0.18280134,  0.63165945,  0.753386  ],\n",
       "       [-0.89823055, -0.2042414 ,  0.3891881 ]], dtype=float32)>"
      ]
     },
     "execution_count": 15,
     "metadata": {},
     "output_type": "execute_result"
    }
   ],
   "source": [
    "eig_vectors"
   ]
  },
  {
   "cell_type": "code",
   "execution_count": null,
   "id": "229ce3d4",
   "metadata": {},
   "outputs": [],
   "source": []
  }
 ],
 "metadata": {
  "kernelspec": {
   "display_name": "Python 3 (ipykernel)",
   "language": "python",
   "name": "python3"
  },
  "language_info": {
   "codemirror_mode": {
    "name": "ipython",
    "version": 3
   },
   "file_extension": ".py",
   "mimetype": "text/x-python",
   "name": "python",
   "nbconvert_exporter": "python",
   "pygments_lexer": "ipython3",
   "version": "3.10.9"
  }
 },
 "nbformat": 4,
 "nbformat_minor": 5
}
