{
  "cells": [
    {
      "cell_type": "code",
      "execution_count": null,
      "metadata": {
        "id": "7po_rIksiG9m"
      },
      "outputs": [],
      "source": [
        "from keras.datasets import cifar10"
      ]
    },
    {
      "cell_type": "code",
      "execution_count": null,
      "metadata": {
        "id": "UQXWfPiRiSGo"
      },
      "outputs": [],
      "source": [
        "#from keras.precessing.image import ImageDataGenerator"
      ]
    },
    {
      "cell_type": "code",
      "execution_count": null,
      "metadata": {
        "id": "ZxbHWn6niZfH"
      },
      "outputs": [],
      "source": [
        "from keras.layers import Dense,Dropout,Activation,Flatten,Conv2D,MaxPooling2D"
      ]
    },
    {
      "cell_type": "code",
      "execution_count": null,
      "metadata": {
        "id": "EOS866Jiikvn"
      },
      "outputs": [],
      "source": [
        "import numpy as np"
      ]
    },
    {
      "cell_type": "code",
      "execution_count": null,
      "metadata": {
        "id": "U-pqesMSimqv"
      },
      "outputs": [],
      "source": [
        "import matplotlib.pyplot as plt"
      ]
    },
    {
      "cell_type": "code",
      "execution_count": null,
      "metadata": {
        "id": "04S1gBRaip6X"
      },
      "outputs": [],
      "source": [
        "(xtrain,ytrain),(xtest,ytest)=cifar10.load_data()"
      ]
    },
    {
      "cell_type": "code",
      "execution_count": null,
      "metadata": {
        "colab": {
          "base_uri": "https://localhost:8080/"
        },
        "id": "C3o76K12i5YP",
        "outputId": "f126ffc5-e7a0-4b40-a72c-591cacada69f"
      },
      "outputs": [
        {
          "data": {
            "text/plain": [
              "(50000, 32, 32, 3)"
            ]
          },
          "execution_count": 7,
          "metadata": {},
          "output_type": "execute_result"
        }
      ],
      "source": [
        "xtrain.shape"
      ]
    },
    {
      "cell_type": "code",
      "execution_count": null,
      "metadata": {
        "colab": {
          "base_uri": "https://localhost:8080/"
        },
        "id": "gHscRMgHi_rf",
        "outputId": "801a182e-ad2e-42f8-829e-f74e298eadd9"
      },
      "outputs": [
        {
          "data": {
            "text/plain": [
              "(10000, 32, 32, 3)"
            ]
          },
          "execution_count": 8,
          "metadata": {},
          "output_type": "execute_result"
        }
      ],
      "source": [
        "xtest.shape"
      ]
    },
    {
      "cell_type": "code",
      "execution_count": null,
      "metadata": {
        "id": "8uXH6zbujBM3"
      },
      "outputs": [],
      "source": [
        "xtrain=xtrain.astype('float32')\n",
        "xtest=xtest.astype('float32')"
      ]
    },
    {
      "cell_type": "code",
      "execution_count": null,
      "metadata": {
        "id": "H4aF9nKwjKn_"
      },
      "outputs": [],
      "source": [
        "xtrain /= 255"
      ]
    },
    {
      "cell_type": "code",
      "execution_count": null,
      "metadata": {
        "id": "WDPx2yx1jMq_"
      },
      "outputs": [],
      "source": [
        "xtest /=255"
      ]
    },
    {
      "cell_type": "code",
      "execution_count": null,
      "metadata": {
        "id": "7xaXNyLzjO8f"
      },
      "outputs": [],
      "source": [
        "from keras.models import Sequential\n",
        "model=Sequential()"
      ]
    },
    {
      "cell_type": "code",
      "execution_count": null,
      "metadata": {
        "id": "kJxCHD4JjVnX"
      },
      "outputs": [],
      "source": [
        "model.add(Conv2D(32,(3,3),padding='same',input_shape=xtrain.shape[1:]))"
      ]
    },
    {
      "cell_type": "code",
      "execution_count": null,
      "metadata": {
        "id": "3xbw72pujhkP"
      },
      "outputs": [],
      "source": [
        "model.add(Activation('relu'))"
      ]
    },
    {
      "cell_type": "code",
      "execution_count": null,
      "metadata": {
        "id": "rFWsuxZijmA3"
      },
      "outputs": [],
      "source": [
        "model.add(Conv2D(32,(3,3)))"
      ]
    },
    {
      "cell_type": "code",
      "execution_count": null,
      "metadata": {
        "id": "SF5r35Fhjs8G"
      },
      "outputs": [],
      "source": [
        "model.add(Activation('relu'))"
      ]
    },
    {
      "cell_type": "code",
      "execution_count": null,
      "metadata": {
        "id": "YJ0jpSuAjwTv"
      },
      "outputs": [],
      "source": [
        "model.add(MaxPooling2D(pool_size=(2,2)))"
      ]
    },
    {
      "cell_type": "code",
      "execution_count": null,
      "metadata": {
        "id": "3xoCEFKJj9J2"
      },
      "outputs": [],
      "source": [
        "model.add(Dropout(0.25))"
      ]
    },
    {
      "cell_type": "code",
      "execution_count": null,
      "metadata": {
        "id": "hSooPe61kRhn"
      },
      "outputs": [],
      "source": [
        "model.add(Flatten())"
      ]
    },
    {
      "cell_type": "code",
      "execution_count": null,
      "metadata": {
        "id": "erXUGcdCkVPn"
      },
      "outputs": [],
      "source": [
        "model.add(Dense(512))"
      ]
    },
    {
      "cell_type": "code",
      "execution_count": null,
      "metadata": {
        "id": "dHn-c3E0kj2n"
      },
      "outputs": [],
      "source": [
        "model.add(Activation('relu'))"
      ]
    },
    {
      "cell_type": "code",
      "execution_count": null,
      "metadata": {
        "id": "e9tBsJUakxyX"
      },
      "outputs": [],
      "source": [
        "model.add(Dropout(0.5))"
      ]
    },
    {
      "cell_type": "code",
      "execution_count": null,
      "metadata": {
        "id": "Zy6LwE9ak-9v"
      },
      "outputs": [],
      "source": [
        "model.add(Dense(10))"
      ]
    },
    {
      "cell_type": "code",
      "execution_count": null,
      "metadata": {
        "id": "U9MW4ZwnlBYf"
      },
      "outputs": [],
      "source": [
        "model.add(Activation('softmax'))"
      ]
    },
    {
      "cell_type": "code",
      "execution_count": null,
      "metadata": {
        "id": "rDOZ1ORJlF8H"
      },
      "outputs": [],
      "source": [
        "model.compile(loss='categorical_crossentropy',optimizer='adam',metrics='accuracy')"
      ]
    },
    {
      "cell_type": "code",
      "execution_count": null,
      "metadata": {
        "id": "K2VeaHMllQV_"
      },
      "outputs": [],
      "source": [
        "from keras.utils import to_categorical"
      ]
    },
    {
      "cell_type": "code",
      "execution_count": null,
      "metadata": {
        "id": "O2uxeebOlUsm"
      },
      "outputs": [],
      "source": [
        "ytrain=to_categorical(ytrain,10)"
      ]
    },
    {
      "cell_type": "code",
      "execution_count": null,
      "metadata": {
        "colab": {
          "base_uri": "https://localhost:8080/"
        },
        "id": "9n8rCdSvldaW",
        "outputId": "6fa24856-3d2c-4f97-db64-e40d441ddfed"
      },
      "outputs": [
        {
          "data": {
            "text/plain": [
              "array([0., 0., 0., 0., 0., 0., 1., 0., 0., 0.], dtype=float32)"
            ]
          },
          "execution_count": 28,
          "metadata": {},
          "output_type": "execute_result"
        }
      ],
      "source": [
        "ytrain[0]"
      ]
    },
    {
      "cell_type": "code",
      "execution_count": null,
      "metadata": {
        "id": "XXVOiAhmlfzm"
      },
      "outputs": [],
      "source": [
        "ytest=to_categorical(ytest,10)"
      ]
    },
    {
      "cell_type": "code",
      "execution_count": null,
      "metadata": {
        "colab": {
          "background_save": true,
          "base_uri": "https://localhost:8080/"
        },
        "id": "S45fe8ZBljtf",
        "outputId": "daea399f-71fa-4445-f61a-f73aaad54a86"
      },
      "outputs": [
        {
          "name": "stdout",
          "output_type": "stream",
          "text": [
            "Epoch 1/5\n",
            "1563/1563 [==============================] - 257s 163ms/step - loss: 1.4132 - accuracy: 0.4932\n",
            "Epoch 2/5\n",
            "1563/1563 [==============================] - 233s 149ms/step - loss: 1.0751 - accuracy: 0.6216\n",
            "Epoch 3/5\n",
            "1563/1563 [==============================] - 230s 147ms/step - loss: 0.9316 - accuracy: 0.6702\n",
            "Epoch 4/5\n",
            "1563/1563 [==============================] - 216s 138ms/step - loss: 0.8300 - accuracy: 0.7079\n",
            "Epoch 5/5\n",
            "1563/1563 [==============================] - 212s 136ms/step - loss: 0.7455 - accuracy: 0.7378\n"
          ]
        },
        {
          "data": {
            "text/plain": [
              "<keras.callbacks.History at 0x7e59814a6f80>"
            ]
          },
          "execution_count": 30,
          "metadata": {},
          "output_type": "execute_result"
        }
      ],
      "source": [
        "model.fit(xtrain,ytrain,batch_size=32,epochs=5)"
      ]
    },
    {
      "cell_type": "code",
      "execution_count": null,
      "metadata": {
        "colab": {
          "background_save": true
        },
        "id": "Vl93XBrilxP3",
        "outputId": "902c8bf8-71de-45b7-b5f2-f2b783805320"
      },
      "outputs": [
        {
          "name": "stdout",
          "output_type": "stream",
          "text": [
            "313/313 [==============================] - 9s 29ms/step\n",
            "[0. 0. 0. 1. 0. 0. 0. 0. 0. 0.]\n",
            "[2.60902965e-03 6.00629894e-04 2.99720815e-03 8.60633433e-01\n",
            " 2.50743586e-04 1.05269596e-01 7.84056634e-03 1.75190275e-03\n",
            " 1.75705217e-02 4.76335321e-04]\n",
            "[0. 0. 0. 0. 0. 0. 0. 0. 1. 0.]\n",
            "[1.4722848e-03 5.2338642e-01 2.0178465e-08 8.3539007e-09 4.3629064e-10\n",
            " 1.4535513e-10 1.9442812e-09 4.0959723e-12 4.7422618e-01 9.1519387e-04]\n",
            "[0. 0. 0. 0. 0. 0. 0. 0. 1. 0.]\n",
            "[3.3213803e-01 2.4463983e-02 3.6032822e-03 5.3738281e-03 1.7116364e-03\n",
            " 3.8205652e-04 5.1295865e-05 1.7204033e-03 5.8654898e-01 4.4006616e-02]\n",
            "[1. 0. 0. 0. 0. 0. 0. 0. 0. 0.]\n",
            "[2.0418024e-01 7.0519693e-04 7.8480784e-03 5.3250245e-05 3.8697179e-03\n",
            " 1.4498999e-06 2.2883478e-05 4.1193343e-06 7.8314096e-01 1.7408293e-04]\n",
            "[0. 0. 0. 0. 0. 0. 1. 0. 0. 0.]\n",
            "[3.18491652e-06 9.01916792e-06 8.08061752e-03 3.15955095e-02\n",
            " 1.50166890e-02 3.56841600e-04 9.44903851e-01 3.41678629e-06\n",
            " 1.85601621e-05 1.23591835e-05]\n"
          ]
        }
      ],
      "source": [
        "predictions=model.predict(xtest)\n",
        "for i in range(5):\n",
        "  print(ytest[i])\n",
        "  print(predictions[i])"
      ]
    }
  ],
  "metadata": {
    "colab": {
      "provenance": []
    },
    "kernelspec": {
      "display_name": "Python 3",
      "name": "python3"
    },
    "language_info": {
      "name": "python"
    }
  },
  "nbformat": 4,
  "nbformat_minor": 0
}